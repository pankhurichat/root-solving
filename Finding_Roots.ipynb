{
 "cells": [
  {
   "cell_type": "markdown",
   "metadata": {
    "id": "LRyDdT1OyoBr"
   },
   "source": [
    "Bisection Method"
   ]
  },
  {
   "cell_type": "code",
   "execution_count": null,
   "metadata": {
    "id": "JMbV3fP5ZIRt"
   },
   "outputs": [],
   "source": [
    "def root(f):\n",
    "  a=float(input(\"Enter value of a: \"))\n",
    "  b=float(input(\"Enter value of b: \"))\n",
    "  i=0\n",
    "  if(f(a)*f(b))<0:\n",
    "      c=(a+b)/2\n",
    "      d=c+1\n",
    "      while abs(c-d)>0.001:\n",
    "        i+=1\n",
    "        if f(a)*f(c)<0:\n",
    "          d=c\n",
    "          b=c\n",
    "          c=(a+b)/2\n",
    "        else:\n",
    "          d=c\n",
    "          a=c\n",
    "          c=(a+b)/2\n",
    "      print(\"The root is\",c)\n",
    "      print(\"No. of iterations:\",i) \n",
    "  else:\n",
    "      print(\"Invalid\")"
   ]
  },
  {
   "cell_type": "code",
   "execution_count": null,
   "metadata": {
    "colab": {
     "base_uri": "https://localhost:8080/"
    },
    "id": "Eoc6RNg5tthx",
    "outputId": "0da04b0d-66ec-4f9a-805a-189af3bfd2d5"
   },
   "outputs": [
    {
     "name": "stdout",
     "output_type": "stream",
     "text": [
      "Enter value of a: 1\n",
      "Enter value of b: 2\n",
      "The root is 1.4150390625\n",
      "No. of iterations: 9\n"
     ]
    }
   ],
   "source": [
    "def f1(x):\n",
    "  y=x**2-2\n",
    "  return y\n",
    "root(f1)"
   ]
  },
  {
   "cell_type": "code",
   "execution_count": null,
   "metadata": {
    "colab": {
     "base_uri": "https://localhost:8080/"
    },
    "id": "8M0LAQBkvscP",
    "outputId": "cf1b4870-5f99-4698-cdbb-c47f27ea0137"
   },
   "outputs": [
    {
     "name": "stdout",
     "output_type": "stream",
     "text": [
      "Enter value of a: 12\n",
      "Enter value of b: 4\n",
      "Invalid\n"
     ]
    }
   ],
   "source": [
    "def f2(x):\n",
    "  import math as m\n",
    "  y=x*m.e**x-1\n",
    "  return y\n",
    "root(f2)"
   ]
  },
  {
   "cell_type": "code",
   "execution_count": null,
   "metadata": {
    "colab": {
     "base_uri": "https://localhost:8080/"
    },
    "id": "d_j0zMh7wSaR",
    "outputId": "e376d651-74c7-45aa-95ed-07a05c0f06f5"
   },
   "outputs": [
    {
     "name": "stdout",
     "output_type": "stream",
     "text": [
      "Enter value of a: 1\n",
      "Enter value of b: 4\n",
      "The root is 1.365478515625\n"
     ]
    }
   ],
   "source": [
    "def f3(x):\n",
    "  import math as m \n",
    "  y=4*(m.e**(-x))*m.sin(x)-1\n",
    "  return y\n",
    "root(f3)"
   ]
  },
  {
   "cell_type": "markdown",
   "metadata": {
    "id": "fOH8kL6LyzPf"
   },
   "source": [
    "Newton Raphson Method"
   ]
  },
  {
   "cell_type": "code",
   "execution_count": null,
   "metadata": {
    "id": "aWvu97ods53j"
   },
   "outputs": [],
   "source": [
    "import math as m\n",
    "import matplotlib.pyplot as plt\n",
    "import numpy as np"
   ]
  },
  {
   "cell_type": "code",
   "execution_count": null,
   "metadata": {
    "id": "DRIVeatVs8ri"
   },
   "outputs": [],
   "source": [
    "def f(x):\n",
    "  y=x**2-2\n",
    "  #y=(x**2)-2\n",
    "  #y=x*(m.e**x) -1\n",
    "  return y"
   ]
  },
  {
   "cell_type": "code",
   "execution_count": null,
   "metadata": {
    "id": "BD1rOsTztAeL"
   },
   "outputs": [],
   "source": [
    "def df(a):\n",
    "  h=0.000001\n",
    "  d=(f(a+h)-f(a))/h\n",
    "  return d"
   ]
  },
  {
   "cell_type": "code",
   "execution_count": null,
   "metadata": {
    "colab": {
     "base_uri": "https://localhost:8080/"
    },
    "id": "jqqJxOnEtDno",
    "outputId": "85ac84c1-ab8a-40c8-e5e9-534e1c9a744f"
   },
   "outputs": [
    {
     "name": "stdout",
     "output_type": "stream",
     "text": [
      "Enter a starting point: 2\n"
     ]
    }
   ],
   "source": [
    "x0=float(input(\"Enter a starting point: \"))\n",
    "x1=x0+(f(x0)/df(x0))"
   ]
  },
  {
   "cell_type": "code",
   "execution_count": null,
   "metadata": {
    "colab": {
     "base_uri": "https://localhost:8080/",
     "height": 283
    },
    "id": "mohjk6D_tJDO",
    "outputId": "53a9ad16-61c9-4c34-ebd7-70184a874439"
   },
   "outputs": [
    {
     "data": {
      "text/plain": [
       "[<matplotlib.lines.Line2D at 0x7f80a2af8c10>]"
      ]
     },
     "execution_count": 23,
     "metadata": {},
     "output_type": "execute_result"
    },
    {
     "data": {
      "image/png": "[encoded data removed]",
      "text/plain": [
       "<Figure size 432x288 with 1 Axes>"
      ]
     },
     "metadata": {
      "needs_background": "light"
     },
     "output_type": "display_data"
    }
   ],
   "source": [
    "xbf=np.linspace(-5,5)\n",
    "ybf=np.zeros(len(xbf))\n",
    "for i in range(len(xbf)):\n",
    "  ybf[i]=f(xbf[i])\n",
    "plt.plot(xbf,ybf)"
   ]
  },
  {
   "cell_type": "code",
   "execution_count": null,
   "metadata": {
    "colab": {
     "base_uri": "https://localhost:8080/"
    },
    "id": "tD05FWc6tMpY",
    "outputId": "53625c5c-06a0-40e2-a98f-c6aea9ddd46d"
   },
   "outputs": [
    {
     "name": "stdout",
     "output_type": "stream",
     "text": [
      "The root is 1.4142135623730963\n",
      "No. of iterations: 0\n"
     ]
    }
   ],
   "source": [
    "i=0\n",
    "while abs(x1-x0)>0.000001:\n",
    "    x0=x1\n",
    "    x1=x0-(f(x0)/df(x0))\n",
    "    i=i+1\n",
    "print(\"The root is\",x1)   \n",
    "print(\"No. of iterations:\",i) "
   ]
  },
  {
   "cell_type": "markdown",
   "metadata": {
    "id": "rpExlBSSuJXW"
   },
   "source": [
    "Secant Method"
   ]
  },
  {
   "cell_type": "code",
   "execution_count": null,
   "metadata": {
    "id": "C1rggDp_uMiw"
   },
   "outputs": [],
   "source": [
    "def f(x):\n",
    "  y=x**2-2\n",
    "  return y"
   ]
  },
  {
   "cell_type": "code",
   "execution_count": null,
   "metadata": {
    "colab": {
     "base_uri": "https://localhost:8080/"
    },
    "id": "Y52OhiiI3TQy",
    "outputId": "8aa103b7-6ed7-4e97-ac7f-082f70632d23"
   },
   "outputs": [
    {
     "name": "stdout",
     "output_type": "stream",
     "text": [
      "Enter a: 1\n",
      "Enter b: 2\n",
      "The root is 1.4142135620573204\n",
      "4\n"
     ]
    }
   ],
   "source": [
    "a=float(input(\"Enter a: \"))\n",
    "b=float(input(\"Enter b: \"))\n",
    "c=b-(f(b)*(b-a))/(f(b)-f(a))\n",
    "i=0\n",
    "while abs(c-b)>0.00001:\n",
    "  i=i+1\n",
    "  d=c\n",
    "  c=c-(f(c)*(c-b))/(f(c)-f(b))\n",
    "  b=d\n",
    "print(\"The root is\",c)  \n",
    "print(i)"
   ]
  }
 ],
 "metadata": {
  "colab": {
   "collapsed_sections": [],
   "provenance": []
  },
  "kernelspec": {
   "display_name": "Python 3",
   "name": "python3"
  },
  "language_info": {
   "name": "python"
  }
 },
 "nbformat": 4,
 "nbformat_minor": 0
}
