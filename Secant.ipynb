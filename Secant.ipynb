{
 "cells": [
  {
   "cell_type": "markdown",
   "metadata": {
    "id": "0VQSfoQJxs28"
   },
   "source": [
    "* For a function $$f(x)= 4e^{-x}sin(x)-1$$\n",
    "\n",
    "**Write down a python program to find out the root of the equation by using the Secant Method. Clearly mention the value of initial values and the precision.\n",
    "Add comments to your program and also plot the function.**"
   ]
  },
  {
   "cell_type": "code",
   "execution_count": null,
   "metadata": {
    "colab": {
     "base_uri": "https://localhost:8080/",
     "height": 265
    },
    "id": "ZsawK8THmT-2",
    "outputId": "bc158917-57da-4ca0-ae5f-ed946473ff1b"
   },
   "outputs": [
    {
     "data": {
      "image/png": "[encoded data removed]",
      "text/plain": [
       "<Figure size 432x288 with 1 Axes>"
      ]
     },
     "metadata": {},
     "output_type": "display_data"
    }
   ],
   "source": [
    "import matplotlib.pyplot as plt\n",
    "import numpy as np\n",
    "import math as m\n",
    "x=np.linspace(-1,5,100).tolist()             #creating array of x list for getting a continuous valued curve\n",
    "y=[]\n",
    "for i in x:\n",
    "  y.append(4*(m.e**(-i))*(m.sin(i))-1)       #appending values of y for the values of x in array \n",
    "plt.plot(x,y, color='red')\n",
    "#print(y)\n",
    "plt.show()"
   ]
  },
  {
   "cell_type": "code",
   "execution_count": null,
   "metadata": {
    "colab": {
     "base_uri": "https://localhost:8080/"
    },
    "id": "qfKCHrNnymln",
    "outputId": "ced63730-657b-4a64-ea42-f73aaeaba8bc"
   },
   "outputs": [
    {
     "name": "stdout",
     "output_type": "stream",
     "text": [
      "enter a= 1\n",
      "enter b= 2\n",
      "1.3649584760457505\n",
      "number of iterations=  9\n"
     ]
    }
   ],
   "source": [
    "import math as m\n",
    "def fn(x):                                  #defining function\n",
    "  f=4*(m.e**(-x)*m.sin(x))-1                    \n",
    "  return f\n",
    "a=float(input(\"enter a= \"))                 #user input for xi-1\n",
    "b=float(input(\"enter b= \"))                 #user input for xi \n",
    "n=0.000001                                  #pecision \n",
    "E= b+(fn(b)*(a-b))/(fn(b)-fn(a))            #value of xi+1 using the formula\n",
    "i=0                                         #initializing iteration\n",
    "while (abs(E-b)>n):                         #setting up condition for the distance between xi+1 and xi to be greater than our defined precision.\n",
    "  b=E                                       #updating values of xi in each iteration \n",
    "  E= b+(fn(b)*(a-b))/(fn(b)-fn(a))\n",
    "  i=i+1                                     #printing the value of our iterations\n",
    "print(E)                                    #printing the value of our root\n",
    "print(\"number of iterations= \", i)"
   ]
  },
  {
   "cell_type": "markdown",
   "metadata": {
    "id": "4CYsTAXRqkWU"
   },
   "source": [
    "* For the function,\n",
    "$$f(x)=x^2-2$$"
   ]
  },
  {
   "cell_type": "code",
   "execution_count": null,
   "metadata": {
    "colab": {
     "base_uri": "https://localhost:8080/",
     "height": 265
    },
    "id": "JgomZnBO0qoT",
    "outputId": "7ac3a93b-fff7-4601-cd70-8d7283a16f6a"
   },
   "outputs": [
    {
     "data": {
      "image/png": "[encoded data removed]",
      "text/plain": [
       "<Figure size 432x288 with 1 Axes>"
      ]
     },
     "metadata": {},
     "output_type": "display_data"
    }
   ],
   "source": [
    "import matplotlib.pyplot as plt\n",
    "import numpy as np\n",
    "import math as m \n",
    "x=np.linspace(-4,4,100)                     #creating array of x list for getting a continuous valued curve\n",
    "y=x**2-2                                    #value of y at different values of x\n",
    "plt.plot(x,y, color='purple')\n",
    "plt.show()"
   ]
  },
  {
   "cell_type": "code",
   "execution_count": null,
   "metadata": {
    "colab": {
     "base_uri": "https://localhost:8080/"
    },
    "id": "ZLLKewLMRbDA",
    "outputId": "3585b701-e81a-4649-afaf-5339fb6e2309"
   },
   "outputs": [
    {
     "name": "stdout",
     "output_type": "stream",
     "text": [
      "enter a= 1.3\n",
      "enter b= 1.4\n",
      "1.4142135642578686\n",
      "number of iterations=  4\n"
     ]
    }
   ],
   "source": [
    "import math as m\n",
    "def fn(x):                                  #defining function\n",
    "  f=x**2-2                   \n",
    "  return f\n",
    "a=float(input(\"enter a= \"))                 #user input for xi-1\n",
    "b=float(input(\"enter b= \"))                 #user input for xi \n",
    "n=0.000001                                  #pecision \n",
    "E= b+(fn(b)*(a-b))/(fn(b)-fn(a))            #value of xi+1 using the formula\n",
    "i=0                                         #initializing iteration\n",
    "while (abs(E-b)>n):                         #setting up condition for the distance between xi+1 and xi to be greater than our defined precision.\n",
    "  b=E                                       #updating values of xi in each iteration \n",
    "  E= b+(fn(b)*(a-b))/(fn(b)-fn(a))\n",
    "  i=i+1                                     #printing the value of our iterations\n",
    "print(E)                                    #printing the value of our root\n",
    "print(\"number of iterations= \", i)"
   ]
  },
  {
   "cell_type": "markdown",
   "metadata": {
    "id": "wuXEoFBpqtbT"
   },
   "source": [
    "* For the function,\n",
    "$$f(x)=x(e^x)-1$$"
   ]
  },
  {
   "cell_type": "code",
   "execution_count": null,
   "metadata": {
    "colab": {
     "base_uri": "https://localhost:8080/",
     "height": 265
    },
    "id": "n6SFWe2zlzO7",
    "outputId": "b1597064-af0a-4240-84dd-da4e14727afd"
   },
   "outputs": [
    {
     "data": {
      "image/png": "[encoded data removed]",
      "text/plain": [
       "<Figure size 432x288 with 1 Axes>"
      ]
     },
     "metadata": {},
     "output_type": "display_data"
    }
   ],
   "source": [
    "import matplotlib.pyplot as plt\n",
    "import numpy as np\n",
    "import math as m\n",
    "plt.style.use('dark_background')\n",
    "x=np.linspace(-1,1,100)                         #creating array of x list for getting a continuous valued curve\n",
    "y=x*(m.e**x)-1                                  #value of y at different values of x\n",
    "plt.plot(x,y, color='beige')\n",
    "plt.show()"
   ]
  },
  {
   "cell_type": "code",
   "execution_count": null,
   "metadata": {
    "colab": {
     "base_uri": "https://localhost:8080/"
    },
    "id": "1-tdweCqRlj_",
    "outputId": "5ba613c0-fc69-48aa-c2d1-602399e2c1e1"
   },
   "outputs": [
    {
     "name": "stdout",
     "output_type": "stream",
     "text": [
      "enter a= 1\n",
      "enter b= 2\n",
      "0.5671434518138401\n",
      "number of iterations=  12\n"
     ]
    }
   ],
   "source": [
    "import math as m\n",
    "def fn(x):                                  #defining function\n",
    "  f=x*(m.e**x)-1                  \n",
    "  return f\n",
    "a=float(input(\"enter a= \"))                 #user input for xi-1\n",
    "b=float(input(\"enter b= \"))                 #user input for xi \n",
    "n=0.000001                                  #pecision \n",
    "E= b+(fn(b)*(a-b))/(fn(b)-fn(a))            #value of xi+1 using the formula\n",
    "i=0                                         #initializing iteration\n",
    "while (abs(E-b)>n):                         #setting up condition for the distance between xi+1 and xi to be greater than our defined precision.\n",
    "  b=E                                       #updating values of xi in each iteration \n",
    "  E= b+(fn(b)*(a-b))/(fn(b)-fn(a))\n",
    "  i=i+1                                     #printing the value of our iterations\n",
    "print(E)                                    #printing the value of our root\n",
    "print(\"number of iterations= \", i)"
   ]
  }
 ],
 "metadata": {
  "colab": {
   "provenance": []
  },
  "kernelspec": {
   "display_name": "Python 3",
   "name": "python3"
  },
  "language_info": {
   "name": "python"
  }
 },
 "nbformat": 4,
 "nbformat_minor": 0
}
