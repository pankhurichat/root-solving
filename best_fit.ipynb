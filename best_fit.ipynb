{
 "cells": [
  {
   "cell_type": "code",
   "execution_count": 6,
   "id": "38470af0",
   "metadata": {},
   "outputs": [],
   "source": [
    "import matplotlib.pyplot as plt\n",
    "import math as m"
   ]
  },
  {
   "cell_type": "code",
   "execution_count": 7,
   "id": "f42dac31",
   "metadata": {},
   "outputs": [],
   "source": [
    "def f(x,v,t):\n",
    "  r= v\n",
    "  return r\n",
    "\n",
    "def g(x,v,t):\n",
    "  r= -4*(m.pi)**2*(x)-b*f(x,v,t)+a*m.sin(k*t)\n",
    "  return r\n",
    "\n",
    "def rk4(x0,v0,t0,tn,n):\n",
    "\n",
    "    h= (tn-t0)/n   # step size h\n",
    "    time=[t0]          # list of t, x and y to append data\n",
    "    thetas=[x0]\n",
    "    velocity=[v0]\n",
    "    for i in range(1,n):\n",
    "      k1 = h*f(x0, v0, t0)\n",
    "      q1 = h*g(x0, v0, t0)\n",
    "      k2=h*f(x0+(k1)/2,v0+(q1)/2,t0+(h)/2)\n",
    "      q2=h*g(x0+(k1)/2,v0+(q1)/2,t0+(h)/2)\n",
    "      k3=h*f(x0+(k2)/2,v0+(q2)/2,(h)/2)\n",
    "      q3=h*g(x0+(k2)/2,v0+(q2)/2,(h)/2)\n",
    "      k4=h*f(x0+k3,v0+q3,t0+h)\n",
    "      q4=h*g(x0+k3,v0+q3,t0+h)\n",
    "        \n",
    "        \n",
    "      x1 = x0 + (1/6)*(k1+2*k2+2*k3+k4)\n",
    "      v1 = v0 + (1/6)*(q1+2*q2+2*q3+q4)\n",
    "      t1 = t0 + h\n",
    "\n",
    "      thetas.append(x1)\n",
    "      velocity.append(v1)\n",
    "      time.append(t1)\n",
    "\n",
    "      x0 = x1         # assign the modified values og x0 and y0 for the next iteration\n",
    "      v0 = v1\n",
    "      t0 = t1\n",
    "      plt. plot(thetas,velocity)\n",
    "    return (thetas,velocity,time)"
   ]
  },
  {
   "cell_type": "code",
   "execution_count": 15,
   "id": "cb37156b",
   "metadata": {},
   "outputs": [
    {
     "data": {
      "image/png": "[encoded data removed]",
      "text/plain": [
       "<Figure size 432x288 with 1 Axes>"
      ]
     },
     "metadata": {
      "needs_background": "light"
     },
     "output_type": "display_data"
    }
   ],
   "source": [
    "fd=0\n",
    "x0=1\n",
    "v0=0\n",
    "t0=0\n",
    "tn=m.pi\n",
    "n=100\n",
    "wd=4*m.pi/3\n",
    "q=100\n",
    "b=q*t0\n",
    "a=fd*(t0)**2\n",
    "k=wd*t0\n",
    "x,y,z=rk4(x0,v0,t0,tn,n)"
   ]
  },
  {
   "cell_type": "code",
   "execution_count": null,
   "id": "35842986",
   "metadata": {},
   "outputs": [],
   "source": []
  }
 ],
 "metadata": {
  "kernelspec": {
   "display_name": "Python 3 (ipykernel)",
   "language": "python",
   "name": "python3"
  },
  "language_info": {
   "codemirror_mode": {
    "name": "ipython",
    "version": 3
   },
   "file_extension": ".py",
   "mimetype": "text/x-python",
   "name": "python",
   "nbconvert_exporter": "python",
   "pygments_lexer": "ipython3",
   "version": "3.9.12"
  }
 },
 "nbformat": 4,
 "nbformat_minor": 5
}
