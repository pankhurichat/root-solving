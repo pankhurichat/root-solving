{
 "cells": [
  {
   "cell_type": "markdown",
   "metadata": {
    "id": "sWcStGYIzO-B"
   },
   "source": [
    "* For a function $$f(x)= 4e^{-x}sin(x)-1$$\n",
    "\n",
    "**Write down a python program to find out the root of the equation by using the Bisection Method. Clearly mention the value of initial values and the precision.\n",
    "Add comments to your program and also plot the function.**"
   ]
  },
  {
   "cell_type": "code",
   "execution_count": 1,
   "metadata": {
    "colab": {
     "base_uri": "https://localhost:8080/",
     "height": 265
    },
    "id": "ZsawK8THmT-2",
    "outputId": "bc158917-57da-4ca0-ae5f-ed946473ff1b"
   },
   "outputs": [
    {
     "data": {
      "image/png": "[encoded data removed]",
      "text/plain": [
       "<Figure size 432x288 with 1 Axes>"
      ]
     },
     "metadata": {
      "needs_background": "light"
     },
     "output_type": "display_data"
    }
   ],
   "source": [
    "import matplotlib.pyplot as plt\n",
    "import numpy as np\n",
    "import math as m\n",
    "x=np.linspace(-1,5,100).tolist()                #creating array of x list for getting a continuous valued curve\n",
    "y=[]\n",
    "for i in x:\n",
    "  y.append(4*(m.e**(-i))*(m.sin(i))-1)          #appending values of y for the values of x in array \n",
    "plt.plot(x,y, color='red')\n",
    "#print(y)\n",
    "plt.show()"
   ]
  },
  {
   "cell_type": "code",
   "execution_count": 2,
   "metadata": {
    "colab": {
     "base_uri": "https://localhost:8080/"
    },
    "id": "idJvDNamQE7Q",
    "outputId": "3994eee4-3625-41a0-8d86-524f5838009c"
   },
   "outputs": [
    {
     "name": "stdout",
     "output_type": "stream",
     "text": [
      "enter a= -.05\n",
      "enter b= 1\n"
     ]
    },
    {
     "ename": "KeyboardInterrupt",
     "evalue": "",
     "output_type": "error",
     "traceback": [
      "\u001b[1;31m---------------------------------------------------------------------------\u001b[0m",
      "\u001b[1;31mKeyboardInterrupt\u001b[0m                         Traceback (most recent call last)",
      "Input \u001b[1;32mIn [2]\u001b[0m, in \u001b[0;36m<cell line: 14>\u001b[1;34m()\u001b[0m\n\u001b[0;32m     16\u001b[0m \u001b[38;5;28;01mif\u001b[39;00m function(c2)\u001b[38;5;241m==\u001b[39m\u001b[38;5;241m0\u001b[39m:                   \u001b[38;5;66;03m#if c2 is the root, loop breaks\u001b[39;00m\n\u001b[0;32m     17\u001b[0m   \u001b[38;5;28;01mbreak\u001b[39;00m\n\u001b[1;32m---> 18\u001b[0m \u001b[38;5;28;01mif\u001b[39;00m ((\u001b[43mfunction\u001b[49m\u001b[43m(\u001b[49m\u001b[43ma\u001b[49m\u001b[43m)\u001b[49m\u001b[38;5;241m*\u001b[39mfunction(b)))\u001b[38;5;241m<\u001b[39m\u001b[38;5;241m0\u001b[39m:     \u001b[38;5;66;03m#our initial interval [a,b]\u001b[39;00m\n\u001b[0;32m     19\u001b[0m   c\u001b[38;5;241m=\u001b[39msomething(a,b)\n\u001b[0;32m     20\u001b[0m \u001b[38;5;28;01mif\u001b[39;00m (function(c)\u001b[38;5;241m*\u001b[39mfunction(a))\u001b[38;5;241m<\u001b[39m\u001b[38;5;241m0\u001b[39m: \n",
      "Input \u001b[1;32mIn [2]\u001b[0m, in \u001b[0;36mfunction\u001b[1;34m(x)\u001b[0m\n\u001b[0;32m      1\u001b[0m \u001b[38;5;28;01mdef\u001b[39;00m \u001b[38;5;21mfunction\u001b[39m(x):                        \u001b[38;5;66;03m#defining function\u001b[39;00m\n\u001b[1;32m----> 2\u001b[0m   f\u001b[38;5;241m=\u001b[39m\u001b[38;5;241;43m4\u001b[39;49m\u001b[38;5;241;43m*\u001b[39;49m\u001b[43m(\u001b[49m\u001b[43mm\u001b[49m\u001b[38;5;241;43m.\u001b[39;49m\u001b[43me\u001b[49m\u001b[38;5;241;43m*\u001b[39;49m\u001b[38;5;241;43m*\u001b[39;49m\u001b[43m(\u001b[49m\u001b[38;5;241;43m-\u001b[39;49m\u001b[43mi\u001b[49m\u001b[43m)\u001b[49m\u001b[43m)\u001b[49m\u001b[38;5;241;43m*\u001b[39;49m\u001b[43m(\u001b[49m\u001b[43mm\u001b[49m\u001b[38;5;241;43m.\u001b[39;49m\u001b[43msin\u001b[49m\u001b[43m(\u001b[49m\u001b[43mi\u001b[49m\u001b[43m)\u001b[49m\u001b[43m)\u001b[49m\u001b[38;5;241m-\u001b[39m\u001b[38;5;241m1\u001b[39m \n\u001b[0;32m      3\u001b[0m   \u001b[38;5;28;01mreturn\u001b[39;00m f\n",
      "\u001b[1;31mKeyboardInterrupt\u001b[0m: "
     ]
    }
   ],
   "source": [
    "def function(x):                        #defining function\n",
    "  f=4*(m.e**(-i))*(m.sin(i))-1 \n",
    "  return f\n",
    "a=float(input(\"enter a= \"))             #user input for initial values\n",
    "b=float(input(\"enter b= \"))\n",
    "n=0.000001                              #tolerance \n",
    "def something(a1,b1):                   #function defining mid value\n",
    "  c1=(a1+b1)/2                          #mid value of our interval [a,b]\n",
    "  #print(c1)\n",
    "  return c1\n",
    "c2=0           #P1                      #initially we don't have the next mid term\n",
    "c=something(a,b) #P0\n",
    "i=0                                     #initialising iteration\n",
    "while(abs(c2-c)>=n):                    #setting condition where the distance between consecutive mid values is greater than our tolerance value\n",
    "  i=i+1\n",
    "  if function(c2)==0:                   #if c2 is the root, loop breaks\n",
    "    break\n",
    "  if ((function(a)*function(b)))<0:     #our initial interval [a,b]\n",
    "    c=something(a,b)\n",
    "  if (function(c)*function(a))<0: \n",
    "    b=c                                 #interval changes to [a,c]\n",
    "    c2=something(a,b)\n",
    "  else:\n",
    "    a=c                                 #interval changes to [c,b]\n",
    "    c2=something(a,b)\n",
    "print(\"iteration= \", i)\n",
    "print(c2)                               #printing our value of root "
   ]
  },
  {
   "cell_type": "markdown",
   "metadata": {
    "id": "4CYsTAXRqkWU"
   },
   "source": [
    "* For the function,\n",
    "$$f(x)=x^2-2$$"
   ]
  },
  {
   "cell_type": "code",
   "execution_count": null,
   "metadata": {
    "colab": {
     "base_uri": "https://localhost:8080/",
     "height": 265
    },
    "id": "JgomZnBO0qoT",
    "outputId": "7ac3a93b-fff7-4601-cd70-8d7283a16f6a"
   },
   "outputs": [
    {
     "data": {
      "image/png": "[encoded data removed]",
      "text/plain": [
       "<Figure size 432x288 with 1 Axes>"
      ]
     },
     "metadata": {},
     "output_type": "display_data"
    }
   ],
   "source": [
    "import matplotlib.pyplot as plt\n",
    "import numpy as np\n",
    "import math as m \n",
    "x=np.linspace(-4,4,100)                     #creating array of x list for getting a continuous valued curve\n",
    "y=x**2-2                                    #value of y at different values of x\n",
    "plt.plot(x,y, color='purple')\n",
    "plt.show()"
   ]
  },
  {
   "cell_type": "code",
   "execution_count": null,
   "metadata": {
    "colab": {
     "base_uri": "https://localhost:8080/"
    },
    "id": "JPRSRASJOp3l",
    "outputId": "827fc6fa-7cf7-497d-f8ee-a79ae4b7ad3b"
   },
   "outputs": [
    {
     "name": "stdout",
     "output_type": "stream",
     "text": [
      "enter a= 77\n",
      "enter b= -1\n",
      "iteration=  26\n",
      "1.414214089512825\n"
     ]
    }
   ],
   "source": [
    "def function(x):                        #defining function\n",
    "  f=x**2-2\n",
    "  return f\n",
    "a=float(input(\"enter a= \"))             #user input for initial values\n",
    "b=float(input(\"enter b= \"))\n",
    "n=0.000001                              #tolerance \n",
    "def something(a1,b1):                   #function defining mid value\n",
    "  c1=(a1+b1)/2\n",
    "  #print(c1)\n",
    "  return c1\n",
    "c2=0\n",
    "c=something(a,b)\n",
    "i=0                                     #initialising iteration\n",
    "while(abs(c2-c)>=n):\n",
    "  i=i+1\n",
    "  if function(c2)==0:                   #if c2 is the root, loop breaks\n",
    "    break\n",
    "  if ((function(a)*function(b)))<0:     #interval [a,b]\n",
    "    c=something(a,b)\n",
    "  if (function(c)*function(a))<0: \n",
    "    b=c                                 #interval changes to [a,c]\n",
    "    c2=something(a,b)\n",
    "  else:\n",
    "    a=c                                 #interval changes to [c,b]\n",
    "    c2=something(a,b)\n",
    "print(\"iteration= \", i)\n",
    "print(c2)                               #printing our value of root "
   ]
  },
  {
   "cell_type": "markdown",
   "metadata": {
    "id": "wuXEoFBpqtbT"
   },
   "source": [
    "* For the function,\n",
    "$$f(x)=x(e^x)-1$$"
   ]
  },
  {
   "cell_type": "code",
   "execution_count": null,
   "metadata": {
    "colab": {
     "base_uri": "https://localhost:8080/",
     "height": 265
    },
    "id": "n6SFWe2zlzO7",
    "outputId": "b1597064-af0a-4240-84dd-da4e14727afd"
   },
   "outputs": [
    {
     "data": {
      "image/png": "[encoded data removed]",
      "text/plain": [
       "<Figure size 432x288 with 1 Axes>"
      ]
     },
     "metadata": {},
     "output_type": "display_data"
    }
   ],
   "source": [
    "import matplotlib.pyplot as plt\n",
    "import numpy as np\n",
    "import math as m\n",
    "plt.style.use('dark_background')\n",
    "x=np.linspace(-1,1,100)                         #creating array of x list for getting a continuous valued curve\n",
    "y=x*(m.e**x)-1                                  #value of y at different values of x\n",
    "plt.plot(x,y, color='beige')\n",
    "plt.show()"
   ]
  },
  {
   "cell_type": "code",
   "execution_count": null,
   "metadata": {
    "colab": {
     "base_uri": "https://localhost:8080/"
    },
    "id": "Ig7CmaNiPqH-",
    "outputId": "d99619c3-05c4-4c5f-afd2-7c6d91824a0f"
   },
   "outputs": [
    {
     "name": "stdout",
     "output_type": "stream",
     "text": [
      "enter a= 9\n",
      "enter b= -3\n",
      "iterations=  23\n",
      "0.5671427249908447\n"
     ]
    }
   ],
   "source": [
    "def function(x):                        #defining function\n",
    "  f=x*(m.e**x)-1\n",
    "  return f\n",
    "a=float(input(\"enter a= \"))             #user input for initial values\n",
    "b=float(input(\"enter b= \"))\n",
    "n=0.000001                              #tolerance \n",
    "def something(a1,b1):                   #function defining mid value\n",
    "  c1=(a1+b1)/2\n",
    "  #print(c1)\n",
    "  return c1\n",
    "c2=0\n",
    "c=something(a,b)\n",
    "i=0                                     #initialising iteration\n",
    "while(abs(c2-c)>=n):\n",
    "  i=i+1\n",
    "  if function(c2)==0:                   #if c2 is the root, loop breaks\n",
    "    break\n",
    "  if ((function(a)*function(b)))<0:     #interval [a,b]\n",
    "    c=something(a,b)\n",
    "  if (function(c)*function(a))<0: \n",
    "    b=c                                 #interval changes to [a,c]\n",
    "    c2=something(a,b)\n",
    "  else:\n",
    "    a=c                                 #interval changes to [c,b]\n",
    "    c2=something(a,b)\n",
    "print(\"iteration= \", i)\n",
    "print(c2)                               #printing our value of root "
   ]
  }
 ],
 "metadata": {
  "colab": {
   "collapsed_sections": [],
   "provenance": []
  },
  "kernelspec": {
   "display_name": "Python 3 (ipykernel)",
   "language": "python",
   "name": "python3"
  },
  "language_info": {
   "codemirror_mode": {
    "name": "ipython",
    "version": 3
   },
   "file_extension": ".py",
   "mimetype": "text/x-python",
   "name": "python",
   "nbconvert_exporter": "python",
   "pygments_lexer": "ipython3",
   "version": "3.9.12"
  }
 },
 "nbformat": 4,
 "nbformat_minor": 1
}
