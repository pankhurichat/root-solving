{
 "cells": [
  {
   "cell_type": "markdown",
   "metadata": {},
   "source": [
    "# Solving first order differential equations"
   ]
  },
  {
   "cell_type": "markdown",
   "metadata": {},
   "source": [
    "### First order differential equations are differential equations of the form\n",
    "\n",
    "$$\\frac{dx}{dt} = f(x,t)$$\n",
    "where $x=x(t)$.  \n",
    "Examples:  \n",
    "1. #### Equation for radioactive decay  \n",
    "\n",
    "$$ \\frac{dN}{dt} = -\\lambda N $$\n",
    "2. #### Newton's law of cooling  \n",
    "\n",
    "$$ \\frac{dT}{dt} = -\\alpha (T-T_0) $$\n",
    "\n",
    "3. #### Capacitor/Inductor in a DC circuit \n",
    "\n",
    "$$ R\\frac{dQ}{dt} + \\frac{Q}{C} = V $$\n",
    "\n",
    "$$ L\\frac{dI}{dt} + RI = V $$  \n",
    "\n",
    "### Methods for solving:\n",
    "\n",
    "1. Euler's method\n",
    "\n",
    "2. Runge-Kutta method(s)\n",
    "\n",
    "#### All such methods rely on Taylor series expansion\n",
    "\n",
    "$$ f(t+\\Delta t) = f(t) + \\Delta t \\frac{df}{dt} + \\frac{\\Delta t^2}{2!}\\frac{d^2f}{dt^2} + \\frac{\\Delta t^3}{3!}\\frac{d^3f}{dt^3} + ... $$\n",
    "where all the derivatives are evaluatd at $t$.\n",
    "\n",
    "### Euler's Method:  \n",
    "#### Truncates the series at the first derivative  \n",
    "$$ f(t+\\Delta t) \\simeq f(t) + \\Delta t \\frac{df}{dt} $$  \n",
    "#### which is equivalent to approximating the derivative as:  \n",
    "$$ \\frac{df}{dt} \\simeq \\frac{f(t+\\Delta t) - f(t)}{\\Delta t} $$"
   ]
  },
  {
   "cell_type": "markdown",
   "metadata": {},
   "source": [
    "### Example: Solving equation for Radioactive decay using Euler's method.  \n",
    "\n",
    "The equation:\n",
    "\n",
    "$$\\frac{dN}{dt} = -\\lambda N$$\n",
    "#### Step 1.: Dimensional analysis  \n",
    "There is a natural time scale $t_0 = 1/\\lambda$. Define dimensionless time variable $\\tau$ (time measured in units of $t_0$) as $\\tau=t/t_0$. In terms of $\\tau$, the equation becomes  \n",
    "$$ \\frac{dN}{d\\tau} = -N$$  \n",
    "Given the number of radioactive nuclei $N_0$ at $\\tau=0$, we wish to determine $N(\\tau)$. Define the instantaneous  fraction of nuclei as $n(\\tau)=N(\\tau)/N_0$. In terms of $n(\\tau)$, the equation becomes  \n",
    "$$ \\frac{dn}{d\\tau} = -n$$  \n",
    "Given $n(0)=1$, we need to determine $n(\\tau)$. We divide the interval $[0,\\tau ]$ into $M$ equal intervals of size $\\Delta \\tau= \\tau/M$. Consider any intermediate instant $\\tau$ (abuse of notaion). Given $n(\\tau)$, we can compute \n",
    "$n(\\tau+\\Delta \\tau)$ using the Euler approximation  \n",
    "$$ n(\\tau+\\Delta\\tau) = n(\\tau) + \\Delta \\tau \\times \\frac{dn}{d\\tau} $$\n",
    "Substituting for the derivative of $n$ using the differential equation gives  \n",
    "$$ n(\\tau+\\Delta\\tau) = n(\\tau) - \\Delta \\tau \\times n(\\tau) $$  \n",
    "This equation can be used iteratively to determine $n(\\tau)$, given $n(0)=1$."
   ]
  },
  {
   "cell_type": "markdown",
   "metadata": {},
   "source": [
    "### The Code\n",
    "#### Step 1: Define and initialize variables"
   ]
  },
  {
   "cell_type": "code",
   "execution_count": 1,
   "metadata": {},
   "outputs": [],
   "source": [
    "number_fraction = 1. # Initial fraction of nuclei\n",
    "tau = 0 # Initial instant\n",
    "tau_final = 5. # Instant up to which computation is to be done\n",
    "delta_tau = 0.01 # Time slice\n",
    "N_slices = int(tau_final/delta_tau) # Number of slices\n",
    "number_fractions = [number_fraction]\n",
    "taus = [tau]"
   ]
  },
  {
   "cell_type": "markdown",
   "metadata": {},
   "source": [
    "#### Step 2: Iteratively go over the difference equation"
   ]
  },
  {
   "cell_type": "code",
   "execution_count": 2,
   "metadata": {},
   "outputs": [],
   "source": [
    "for step in range(0,N_slices):\n",
    "    number_fraction += -(delta_tau * number_fraction)\n",
    "    tau += delta_tau\n",
    "    number_fractions.append(number_fraction)\n",
    "    taus.append(tau)"
   ]
  },
  {
   "cell_type": "markdown",
   "metadata": {},
   "source": [
    "#### Step 3: Visualize the plot  \n",
    "Import plotting library 'matplotlib'"
   ]
  },
  {
   "cell_type": "code",
   "execution_count": 3,
   "metadata": {},
   "outputs": [],
   "source": [
    "import matplotlib.pyplot as plt # Plotting library imported\n",
    "%matplotlib inline "
   ]
  },
  {
   "cell_type": "code",
   "execution_count": 4,
   "metadata": {},
   "outputs": [
    {
     "data": {
      "image/png": "[encoded data removed]",
      "text/plain": [
       "<Figure size 432x288 with 1 Axes>"
      ]
     },
     "metadata": {
      "needs_background": "light"
     },
     "output_type": "display_data"
    }
   ],
   "source": [
    "plt.xlabel('tau') # Label of 'x' axis\n",
    "plt.ylabel('n') # Label of 'y' axis\n",
    "plt.style.use('seaborn-whitegrid')\n",
    "plt.title('Radioactive decay') # Title of plot\n",
    "plt.plot(taus, number_fractions); # The plot command"
   ]
  },
  {
   "cell_type": "markdown",
   "metadata": {},
   "source": [
    "#### Step 4: Analyze to see if the output makes sense  \n",
    "In this case, we know the exact analytical solution  \n",
    "$$ n(\\tau) = e^{-\\tau} $$\n",
    "We can generate the 'correct' values of $n(\\tau)$ using this function. First, we define this function\n"
   ]
  },
  {
   "cell_type": "code",
   "execution_count": 5,
   "metadata": {},
   "outputs": [],
   "source": [
    "import math\n",
    "\n",
    "def decay(t):\n",
    "    return math.exp(-t)"
   ]
  },
  {
   "cell_type": "code",
   "execution_count": 6,
   "metadata": {},
   "outputs": [],
   "source": [
    "correct_fractions = []\n",
    "for i in taus:\n",
    "    correct_fractions.append(decay(i))"
   ]
  },
  {
   "cell_type": "markdown",
   "metadata": {},
   "source": [
    "#### Now we can plot both the fractions simultaneously"
   ]
  },
  {
   "cell_type": "code",
   "execution_count": 7,
   "metadata": {},
   "outputs": [
    {
     "data": {
      "image/png": "[encoded data removed]",
      "text/plain": [
       "<Figure size 432x288 with 1 Axes>"
      ]
     },
     "metadata": {},
     "output_type": "display_data"
    }
   ],
   "source": [
    "plt.xlabel('tau') # Label of 'x' axis\n",
    "plt.ylabel('n') # Label of 'y' axis\n",
    "plt.style.use('seaborn-whitegrid')\n",
    "plt.title('Radioactive decay') # Title of plot\n",
    "plt.plot(taus, number_fractions, '-b', label='number_fraction')\n",
    "plt.plot(taus, correct_fractions, '-r', label='correct_fraction')\n",
    "plt.legend();"
   ]
  },
  {
   "cell_type": "markdown",
   "metadata": {},
   "source": [
    "### The Second Order Runge-Kutta Algorithm"
   ]
  },
  {
   "cell_type": "markdown",
   "metadata": {},
   "source": [
    "Taylor series expansion of a function\n",
    "\n",
    "$$ f(x+\\Delta x) = f(x) + \\Delta x f'(x) + \\frac{1}{2!}\\Delta x^2 f''(x) + \\frac{1}{3!}\\Delta x^3 f'''(x) + ...$$\n",
    "This can be written as  \n",
    "$$ f(x+\\Delta x) = f(x) + \\Delta x f'(x) + \\frac{1}{2!}\\Delta x^2 f''(x) + \\mathcal{O}(\\Delta x^3)$$\n",
    "If we wish to have accuracy up to $\\mathcal{O}(\\Delta x^2)$ only, there is a clever way of doing it. This forms\n",
    "the basis of the RK2 algorithm. We can rewrite the above equation as \n",
    "$$ f(x+\\Delta x) = f(x) + \\Delta x \\left(f'(x) + \\frac{1}{2!}\\Delta x f''(x)\\right) + \\mathcal{O}(\\Delta x^3)$$\n",
    "Now\n",
    "$$ f'(x + \\Delta x/2) = f'(x) + \\frac{1}{2}\\Delta x f''(x) + \\mathcal{O'}(\\Delta x^2)$$\n",
    "Therefore\n",
    "$$ f'(x) + \\frac{1}{2}\\Delta x f''(x) = f'(x + \\Delta x/2) - \\mathcal{O'}(\\Delta x^2)$$\n",
    "Substituting, we get  \n",
    "$$ f(x+\\Delta x) = f(x) + \\Delta x \\left(f'(x + \\Delta x/2) - \\mathcal{O'}(\\Delta x^2)\\right) + \\mathcal{O}(\\Delta x^3) $$\n",
    "The $\\mathcal{O'}(\\Delta x^2)$ term, when multiplied with $\\Delta x$, gives a term $\\mathcal{O}(\\Delta x^3)$. Then,\n",
    "$$ f(x+\\Delta x) = f(x) + \\Delta x f'(x + \\Delta x/2) + \\tilde{\\mathcal{O}}(\\Delta x^3) $$\n",
    "For accuracy up to order $ \\Delta x^2$, we ignore the higher order terms, to get\n",
    "$$ f(x+\\Delta x) \\simeq f(x) + \\Delta x f'(x + \\Delta x/2) $$\n"
   ]
  },
  {
   "cell_type": "markdown",
   "metadata": {},
   "source": [
    "Consider a first order differential equation of the form  \n",
    "$$\\frac{dx}{dt} = g(x,t)$$  \n",
    "The above algorithm gives (with $f$ replaced by variable $x$ here)  \n",
    "$$ x(t+\\Delta t) = x(t) + \\Delta t \\ g\\left(\\ x(t+\\Delta t/2), t+\\Delta t/2 \\ \\right) $$  \n",
    "In this form, the equation does not allow us to determine $x(t+\\Delta t)$, given $x(t)$. Since we want \n",
    "accuracy up to $\\mathcal{O}(\\Delta t^2)$, we can approximate $x(t+\\Delta t/2)$ on RHS by $x(t)+(\\Delta t/2) \\ \\dot{x} = x(t) + (\\Delta t/2) \\ g(x,t)$. Substituting, we get  \n",
    "$$ x(t+\\Delta t) = x(t) + \\Delta t \\ g\\left(\\ x(t) + (\\Delta t/2) \\ g(x,t), \\ t+\\Delta t/2 \\ \\right) $$  \n",
    "\n",
    "This can be reduced to the following algorithm:\n",
    "\n",
    "$$\n",
    "\\begin{align}\n",
    "k_1 &= \\Delta t \\ g(x,t) \\\\\n",
    "k_2 &= \\Delta t \\ g\\left(x+k_1/2, t+\\Delta t/2\\right) \\\\\n",
    "x(t+\\Delta t) &= x(t) + k_2\n",
    "\\end{align}\n",
    "$$"
   ]
  },
  {
   "cell_type": "markdown",
   "metadata": {},
   "source": [
    "### Exercise: The Parachute Problem\n",
    "\n",
    "Model the motion of an object falling with a parachute such that the air drag on the object varies as the \n",
    "square of velocity. Identifying suitable natural scales, write down a dimensionless differential equation \n",
    "describing the velocity of the object as a function of time and solve this equation, assuming the object starts to \n",
    "fall from rest. Try both the Euler and the RK2 algorithms and note the differences. "
   ]
  },
  {
   "cell_type": "code",
   "execution_count": null,
   "metadata": {},
   "outputs": [],
   "source": []
  }
 ],
 "metadata": {
  "kernelspec": {
   "display_name": "Python 3 (ipykernel)",
   "language": "python",
   "name": "python3"
  },
  "language_info": {
   "codemirror_mode": {
    "name": "ipython",
    "version": 3
   },
   "file_extension": ".py",
   "mimetype": "text/x-python",
   "name": "python",
   "nbconvert_exporter": "python",
   "pygments_lexer": "ipython3",
   "version": "3.9.12"
  },
  "vscode": {
   "interpreter": {
    "hash": "3912180f7270103d8014935bc717e3f94c5c3bf973e18863ec81f143b53134e6"
   }
  }
 },
 "nbformat": 4,
 "nbformat_minor": 4
}
