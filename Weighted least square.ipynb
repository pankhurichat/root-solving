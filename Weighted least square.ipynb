{
 "cells": [
  {
   "cell_type": "code",
   "execution_count": 1,
   "id": "6711e675",
   "metadata": {},
   "outputs": [],
   "source": [
    "import math as m\n",
    "import matplotlib.pyplot as plt\n",
    "import numpy as np"
   ]
  },
  {
   "cell_type": "code",
   "execution_count": 2,
   "id": "04d06e2d",
   "metadata": {},
   "outputs": [],
   "source": [
    "with open(\"RRab_input.dat\",\"r\") as file:\n",
    "    data=file.readlines()\n",
    "    data=[row.split() for row in data]\n",
    "    data=np.array(data)"
   ]
  },
  {
   "cell_type": "code",
   "execution_count": 3,
   "id": "832c5c6f",
   "metadata": {},
   "outputs": [],
   "source": [
    "name=data[:,0].tolist()\n",
    "all_period=data[:,1]"
   ]
  },
  {
   "cell_type": "code",
   "execution_count": 4,
   "id": "4e3a4c02",
   "metadata": {},
   "outputs": [],
   "source": [
    "import os \n",
    "\n",
    "\n",
    "path =r\"C:/Users/dell//Documents/MP III/phot/\"\n",
    "os.chdir(path)\n",
    "files_no_ext = [\".\".join(f.split(\"_\")[:-1]) for f in os.listdir() if os.path.isfile(f)]\n",
    "#print(files_no_ext)\n",
    "names=[]\n",
    "for i in range(0,len(files_no_ext),2):\n",
    "    names.append(files_no_ext[i])"
   ]
  },
  {
   "cell_type": "code",
   "execution_count": 5,
   "id": "245a3446",
   "metadata": {},
   "outputs": [],
   "source": [
    "period=[]\n",
    "for i in range(0,len(names)):\n",
    "    index = name.index(names[i])\n",
    "    period.append(float(all_period[index]))"
   ]
  },
  {
   "cell_type": "code",
   "execution_count": 6,
   "id": "781a5a25",
   "metadata": {},
   "outputs": [],
   "source": [
    "X=np.empty(shape=(200,2))\n",
    "for i in range(0,200):\n",
    "    X[i][0]=m.log(period[i])\n",
    "    X[i][1]=1"
   ]
  },
  {
   "cell_type": "code",
   "execution_count": 7,
   "id": "95cc85bd",
   "metadata": {},
   "outputs": [],
   "source": [
    "# Import the required libraries\n",
    "import os\n",
    "\n",
    "# Define the location of the directory\n",
    "path =r\"C:/Users/dell//Documents/MP III/phot/\"\n",
    "\n",
    "# Change the directory\n",
    "os.chdir(path)\n",
    "\n",
    "def read_files(file_path,B):\n",
    "    with open(file_path, 'r') as file:\n",
    "        data=file.readlines()\n",
    "        data=[row.split() for row in data]\n",
    "        data=np.array(data,dtype=float)\n",
    "        A=data[:,1]\n",
    "        e=data[:,2]\n",
    "        #np.append(B,float(max(A)))\n",
    "    return A,e"
   ]
  },
  {
   "cell_type": "code",
   "execution_count": 8,
   "id": "dbc06319",
   "metadata": {},
   "outputs": [],
   "source": [
    "# Iterate over all the files in the directory\n",
    "max_magnitude=[]\n",
    "error_list=[]\n",
    "for file in os.listdir():\n",
    "    if file.endswith('rephase.dat'):\n",
    "      # Create the filepath of particular file\n",
    "        file_path =f\"{path}/{file}\"\n",
    "        A,e=read_files(file_path,max_magnitude)\n",
    "        A_l=A.tolist()     ## List of magnitude of one star corresponding to different phases\n",
    "        s=max(A_l)\n",
    "        index=A_l.index(s)\n",
    "        max_magnitude.append(float(s))\n",
    "        error_list.append(float(e[index]))"
   ]
  },
  {
   "cell_type": "code",
   "execution_count": 9,
   "id": "fa88e7a7",
   "metadata": {},
   "outputs": [],
   "source": [
    "Y=np.empty(shape=(200,1))\n",
    "error=np.empty(shape=(200,200))\n",
    "for i in range(0,200):\n",
    "    Y[i][0]=max_magnitude[i]\n",
    "for i in range(0,200):\n",
    "    error[i][i]=error_list[i]"
   ]
  },
  {
   "cell_type": "code",
   "execution_count": 10,
   "id": "fb56d229",
   "metadata": {},
   "outputs": [],
   "source": [
    "## A is matrix of x values\n",
    "## Y is matrix of y values\n",
    "## C is error matrix\n",
    "## matrix X gives values of parameters\n",
    "def weighted(A,B,C):\n",
    "    c_in=np.linalg.inv(C)\n",
    "    a_trans=A.transpose()\n",
    "    d=np.dot(a_trans,c_in)\n",
    "    e=np.dot(d,A)\n",
    "    e_in=np.linalg.inv(e)\n",
    "    f=np.dot(e_in,a_trans)\n",
    "    g=np.dot(f,c_in)\n",
    "    h=np.dot(g,B)\n",
    "    return h"
   ]
  },
  {
   "cell_type": "code",
   "execution_count": 11,
   "id": "3eb28975",
   "metadata": {},
   "outputs": [
    {
     "name": "stdout",
     "output_type": "stream",
     "text": [
      "[[-1.32381923]\n",
      " [18.41879899]]\n"
     ]
    }
   ],
   "source": [
    "constants=weighted(X,Y,error)\n",
    "print(constants)"
   ]
  },
  {
   "cell_type": "code",
   "execution_count": 15,
   "id": "7202c53a",
   "metadata": {},
   "outputs": [
    {
     "data": {
      "text/plain": [
       "[<matplotlib.lines.Line2D at 0x2517b40efd0>]"
      ]
     },
     "execution_count": 15,
     "metadata": {},
     "output_type": "execute_result"
    },
    {
     "data": {
      "image/png": "[encoded data removed]",
      "text/plain": [
       "<Figure size 432x288 with 1 Axes>"
      ]
     },
     "metadata": {
      "needs_background": "light"
     },
     "output_type": "display_data"
    }
   ],
   "source": [
    "plt.scatter(period,max_magnitude)\n",
    "x_l=np.linspace(0.4,0.9,100)\n",
    "y_l=constants[0][0]*(np.log(x_l))+constants[1][0]\n",
    "plt.plot(x_l,y_l)"
   ]
  },
  {
   "cell_type": "markdown",
   "id": "de562813",
   "metadata": {},
   "source": [
    "# Minimum Magnitude"
   ]
  },
  {
   "cell_type": "code",
   "execution_count": 13,
   "id": "adf7be4d",
   "metadata": {},
   "outputs": [],
   "source": [
    "# Iterate over all the files in the directory\n",
    "max_magnitude=[]\n",
    "error_list=[]\n",
    "for file in os.listdir():\n",
    "    if file.endswith('rephase.dat'):\n",
    "      # Create the filepath of particular file\n",
    "        file_path =f\"{path}/{file}\"\n",
    "        A,e=read_files(file_path,max_magnitude)\n",
    "        A_l=A.tolist()\n",
    "        s=min(A_l)\n",
    "        index=A_l.index(s)\n",
    "        max_magnitude.append(float(s))\n",
    "        error_list.append(float(e[index]))"
   ]
  },
  {
   "cell_type": "code",
   "execution_count": 14,
   "id": "7549f2de",
   "metadata": {},
   "outputs": [],
   "source": [
    "Y=np.empty(shape=(200,1))\n",
    "error=np.empty(shape=(200,200))\n",
    "for i in range(0,200):\n",
    "    Y[i][0]=max_magnitude[i]\n",
    "for i in range(0,200):\n",
    "    error[i][i]=error_list[i]"
   ]
  },
  {
   "cell_type": "code",
   "execution_count": 15,
   "id": "368b6551",
   "metadata": {},
   "outputs": [
    {
     "name": "stdout",
     "output_type": "stream",
     "text": [
      "[[nan]\n",
      " [nan]]\n"
     ]
    }
   ],
   "source": [
    "constants=weighted(X,Y,error)\n",
    "print(constants)"
   ]
  },
  {
   "cell_type": "code",
   "execution_count": 16,
   "id": "0fc16745",
   "metadata": {},
   "outputs": [
    {
     "data": {
      "text/plain": [
       "<matplotlib.collections.PathCollection at 0x1042e9a44f0>"
      ]
     },
     "execution_count": 16,
     "metadata": {},
     "output_type": "execute_result"
    },
    {
     "data": {
      "image/png": "[encoded data removed]",
      "text/plain": [
       "<Figure size 432x288 with 1 Axes>"
      ]
     },
     "metadata": {
      "needs_background": "light"
     },
     "output_type": "display_data"
    }
   ],
   "source": [
    "plt.scatter(period,max_magnitude)"
   ]
  },
  {
   "cell_type": "code",
   "execution_count": null,
   "id": "4fdc5713",
   "metadata": {},
   "outputs": [],
   "source": []
  }
 ],
 "metadata": {
  "kernelspec": {
   "display_name": "Python 3 (ipykernel)",
   "language": "python",
   "name": "python3"
  },
  "language_info": {
   "codemirror_mode": {
    "name": "ipython",
    "version": 3
   },
   "file_extension": ".py",
   "mimetype": "text/x-python",
   "name": "python",
   "nbconvert_exporter": "python",
   "pygments_lexer": "ipython3",
   "version": "3.9.12"
  }
 },
 "nbformat": 4,
 "nbformat_minor": 5
}
