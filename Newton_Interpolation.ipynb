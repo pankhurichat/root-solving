{
 "cells": [
  {
   "cell_type": "markdown",
   "metadata": {},
   "source": [
    "## Newton Interpolation\n",
    "\n",
    "Given a function $f(x)$ sampled at $n+1$ points $x_0, x_1, ...., x_n$, Newton's Interpolation formula generates a \n",
    "polynomial $Q_n(x)$ of degree less than or equal to $n$ using the recursive relation \n",
    "\n",
    "$$ Q_m(x) = Q_{m-1}(x) + c (x-x_0)(x-x_1)...(x - x_{m-1}) $$\n",
    "\n",
    "where $Q_{m-1}(x_j) = f(x_{j})$ for $0 \\leq j \\leq x_{m-1}$ and constant $c$ is determined by demanding that \n",
    "$Q_m(x_m) = f(x_m)$. \n",
    "\n",
    "This yields \n",
    "\n",
    "$$\n",
    "c = \\frac{f(x_m) - Q_{m-1}(x_m)}{\\prod_{j=0}^{m-1} (x_m - x_j)} $$"
   ]
  },
  {
   "cell_type": "code",
   "execution_count": 1,
   "metadata": {},
   "outputs": [],
   "source": [
    "import math\n",
    "import matplotlib.pyplot as plt   \n",
    "%matplotlib inline"
   ]
  },
  {
   "cell_type": "markdown",
   "metadata": {},
   "source": [
    "The following function computes the product $\\prod_{j} (x - x_j)$ where the vector $X$ consists of the points \n",
    "$x_j$"
   ]
  },
  {
   "cell_type": "code",
   "execution_count": 7,
   "metadata": {},
   "outputs": [],
   "source": [
    "def Prod(x, X):\n",
    "    prod = 1.\n",
    "    for x_i in X:\n",
    "        prod *= x - x_i\n",
    "    return prod"
   ]
  },
  {
   "cell_type": "markdown",
   "metadata": {},
   "source": [
    "Function to compute Newton Interpolant for a function $f$ at point $x$, given the funcion is sampled at \n",
    "points $X$"
   ]
  },
  {
   "cell_type": "code",
   "execution_count": 8,
   "metadata": {},
   "outputs": [],
   "source": [
    "def NewtonInterpolation(f, x, X): \n",
    "    n = len(X)\n",
    "    if n == 1:\n",
    "        return f(X[0])   \n",
    "    else:\n",
    "        xm = X[-1]\n",
    "        X = X[:-1]\n",
    "        return NewtonInterpolation(f, x, X) + ((f(xm) - NewtonInterpolation(f, xm, X))/Prod(xm, X)) * Prod(x, X)    "
   ]
  },
  {
   "cell_type": "markdown",
   "metadata": {},
   "source": [
    "Example: The Exponential Function"
   ]
  },
  {
   "cell_type": "code",
   "execution_count": 9,
   "metadata": {},
   "outputs": [],
   "source": [
    "def f(V):\n",
    "    q=1.6*10**-19\n",
    "    T=300\n",
    "    k=1.38*10**-23\n",
    "    return 5*(math.e**(q*V/k*T)-1)"
   ]
  },
  {
   "cell_type": "code",
   "execution_count": 11,
   "metadata": {},
   "outputs": [
    {
     "ename": "OverflowError",
     "evalue": "(34, 'Result too large')",
     "output_type": "error",
     "traceback": [
      "\u001b[1;31m---------------------------------------------------------------------------\u001b[0m",
      "\u001b[1;31mOverflowError\u001b[0m                             Traceback (most recent call last)",
      "Input \u001b[1;32mIn [11]\u001b[0m, in \u001b[0;36m<cell line: 9>\u001b[1;34m()\u001b[0m\n\u001b[0;32m      4\u001b[0m x\u001b[38;5;241m=\u001b[39m[\u001b[38;5;241m0\u001b[39m,\u001b[38;5;241m0.3\u001b[39m,\u001b[38;5;241m0.4\u001b[39m,\u001b[38;5;241m0.5\u001b[39m,\u001b[38;5;241m0.8\u001b[39m,\u001b[38;5;241m1\u001b[39m,\u001b[38;5;241m1.2\u001b[39m,\u001b[38;5;241m1.3\u001b[39m,\u001b[38;5;241m1.5\u001b[39m,\u001b[38;5;241m1.5\u001b[39m,\u001b[38;5;241m1.7\u001b[39m,\u001b[38;5;241m2\u001b[39m]\n\u001b[0;32m      5\u001b[0m \u001b[38;5;66;03m# polynomial_approximation = []\u001b[39;00m\n\u001b[0;32m      6\u001b[0m \n\u001b[0;32m      7\u001b[0m \u001b[38;5;66;03m# for k in x:\u001b[39;00m\n\u001b[0;32m      8\u001b[0m \u001b[38;5;66;03m#     polynomial_approximation.append(NewtonInterpolation(f, k, points))\u001b[39;00m\n\u001b[1;32m----> 9\u001b[0m polynomial_approximation\u001b[38;5;241m=\u001b[39m[NewtonInterpolation(f, k, points) \u001b[38;5;28;01mfor\u001b[39;00m k \u001b[38;5;129;01min\u001b[39;00m x]\n",
      "Input \u001b[1;32mIn [11]\u001b[0m, in \u001b[0;36m<listcomp>\u001b[1;34m(.0)\u001b[0m\n\u001b[0;32m      4\u001b[0m x\u001b[38;5;241m=\u001b[39m[\u001b[38;5;241m0\u001b[39m,\u001b[38;5;241m0.3\u001b[39m,\u001b[38;5;241m0.4\u001b[39m,\u001b[38;5;241m0.5\u001b[39m,\u001b[38;5;241m0.8\u001b[39m,\u001b[38;5;241m1\u001b[39m,\u001b[38;5;241m1.2\u001b[39m,\u001b[38;5;241m1.3\u001b[39m,\u001b[38;5;241m1.5\u001b[39m,\u001b[38;5;241m1.5\u001b[39m,\u001b[38;5;241m1.7\u001b[39m,\u001b[38;5;241m2\u001b[39m]\n\u001b[0;32m      5\u001b[0m \u001b[38;5;66;03m# polynomial_approximation = []\u001b[39;00m\n\u001b[0;32m      6\u001b[0m \n\u001b[0;32m      7\u001b[0m \u001b[38;5;66;03m# for k in x:\u001b[39;00m\n\u001b[0;32m      8\u001b[0m \u001b[38;5;66;03m#     polynomial_approximation.append(NewtonInterpolation(f, k, points))\u001b[39;00m\n\u001b[1;32m----> 9\u001b[0m polynomial_approximation\u001b[38;5;241m=\u001b[39m[\u001b[43mNewtonInterpolation\u001b[49m\u001b[43m(\u001b[49m\u001b[43mf\u001b[49m\u001b[43m,\u001b[49m\u001b[43m \u001b[49m\u001b[43mk\u001b[49m\u001b[43m,\u001b[49m\u001b[43m \u001b[49m\u001b[43mpoints\u001b[49m\u001b[43m)\u001b[49m \u001b[38;5;28;01mfor\u001b[39;00m k \u001b[38;5;129;01min\u001b[39;00m x]\n",
      "Input \u001b[1;32mIn [8]\u001b[0m, in \u001b[0;36mNewtonInterpolation\u001b[1;34m(f, x, X)\u001b[0m\n\u001b[0;32m      6\u001b[0m xm \u001b[38;5;241m=\u001b[39m X[\u001b[38;5;241m-\u001b[39m\u001b[38;5;241m1\u001b[39m]\n\u001b[0;32m      7\u001b[0m X \u001b[38;5;241m=\u001b[39m X[:\u001b[38;5;241m-\u001b[39m\u001b[38;5;241m1\u001b[39m]\n\u001b[1;32m----> 8\u001b[0m \u001b[38;5;28;01mreturn\u001b[39;00m \u001b[43mNewtonInterpolation\u001b[49m\u001b[43m(\u001b[49m\u001b[43mf\u001b[49m\u001b[43m,\u001b[49m\u001b[43m \u001b[49m\u001b[43mx\u001b[49m\u001b[43m,\u001b[49m\u001b[43m \u001b[49m\u001b[43mX\u001b[49m\u001b[43m)\u001b[49m \u001b[38;5;241m+\u001b[39m ((f(xm) \u001b[38;5;241m-\u001b[39m NewtonInterpolation(f, xm, X))\u001b[38;5;241m/\u001b[39mProd(xm, X)) \u001b[38;5;241m*\u001b[39m Prod(x, X)\n",
      "Input \u001b[1;32mIn [8]\u001b[0m, in \u001b[0;36mNewtonInterpolation\u001b[1;34m(f, x, X)\u001b[0m\n\u001b[0;32m      6\u001b[0m xm \u001b[38;5;241m=\u001b[39m X[\u001b[38;5;241m-\u001b[39m\u001b[38;5;241m1\u001b[39m]\n\u001b[0;32m      7\u001b[0m X \u001b[38;5;241m=\u001b[39m X[:\u001b[38;5;241m-\u001b[39m\u001b[38;5;241m1\u001b[39m]\n\u001b[1;32m----> 8\u001b[0m \u001b[38;5;28;01mreturn\u001b[39;00m \u001b[43mNewtonInterpolation\u001b[49m\u001b[43m(\u001b[49m\u001b[43mf\u001b[49m\u001b[43m,\u001b[49m\u001b[43m \u001b[49m\u001b[43mx\u001b[49m\u001b[43m,\u001b[49m\u001b[43m \u001b[49m\u001b[43mX\u001b[49m\u001b[43m)\u001b[49m \u001b[38;5;241m+\u001b[39m ((f(xm) \u001b[38;5;241m-\u001b[39m NewtonInterpolation(f, xm, X))\u001b[38;5;241m/\u001b[39mProd(xm, X)) \u001b[38;5;241m*\u001b[39m Prod(x, X)\n",
      "    \u001b[1;31m[... skipping similar frames: NewtonInterpolation at line 8 (8 times)]\u001b[0m\n",
      "Input \u001b[1;32mIn [8]\u001b[0m, in \u001b[0;36mNewtonInterpolation\u001b[1;34m(f, x, X)\u001b[0m\n\u001b[0;32m      6\u001b[0m xm \u001b[38;5;241m=\u001b[39m X[\u001b[38;5;241m-\u001b[39m\u001b[38;5;241m1\u001b[39m]\n\u001b[0;32m      7\u001b[0m X \u001b[38;5;241m=\u001b[39m X[:\u001b[38;5;241m-\u001b[39m\u001b[38;5;241m1\u001b[39m]\n\u001b[1;32m----> 8\u001b[0m \u001b[38;5;28;01mreturn\u001b[39;00m \u001b[43mNewtonInterpolation\u001b[49m\u001b[43m(\u001b[49m\u001b[43mf\u001b[49m\u001b[43m,\u001b[49m\u001b[43m \u001b[49m\u001b[43mx\u001b[49m\u001b[43m,\u001b[49m\u001b[43m \u001b[49m\u001b[43mX\u001b[49m\u001b[43m)\u001b[49m \u001b[38;5;241m+\u001b[39m ((f(xm) \u001b[38;5;241m-\u001b[39m NewtonInterpolation(f, xm, X))\u001b[38;5;241m/\u001b[39mProd(xm, X)) \u001b[38;5;241m*\u001b[39m Prod(x, X)\n",
      "Input \u001b[1;32mIn [8]\u001b[0m, in \u001b[0;36mNewtonInterpolation\u001b[1;34m(f, x, X)\u001b[0m\n\u001b[0;32m      2\u001b[0m n \u001b[38;5;241m=\u001b[39m \u001b[38;5;28mlen\u001b[39m(X)\n\u001b[0;32m      3\u001b[0m \u001b[38;5;28;01mif\u001b[39;00m n \u001b[38;5;241m==\u001b[39m \u001b[38;5;241m1\u001b[39m:\n\u001b[1;32m----> 4\u001b[0m     \u001b[38;5;28;01mreturn\u001b[39;00m \u001b[43mf\u001b[49m\u001b[43m(\u001b[49m\u001b[43mX\u001b[49m\u001b[43m[\u001b[49m\u001b[38;5;241;43m0\u001b[39;49m\u001b[43m]\u001b[49m\u001b[43m)\u001b[49m   \n\u001b[0;32m      5\u001b[0m \u001b[38;5;28;01melse\u001b[39;00m:\n\u001b[0;32m      6\u001b[0m     xm \u001b[38;5;241m=\u001b[39m X[\u001b[38;5;241m-\u001b[39m\u001b[38;5;241m1\u001b[39m]\n",
      "Input \u001b[1;32mIn [9]\u001b[0m, in \u001b[0;36mf\u001b[1;34m(V)\u001b[0m\n\u001b[0;32m      3\u001b[0m T\u001b[38;5;241m=\u001b[39m\u001b[38;5;241m300\u001b[39m\n\u001b[0;32m      4\u001b[0m k\u001b[38;5;241m=\u001b[39m\u001b[38;5;241m1.38\u001b[39m\u001b[38;5;241m*\u001b[39m\u001b[38;5;241m10\u001b[39m\u001b[38;5;241m*\u001b[39m\u001b[38;5;241m*\u001b[39m\u001b[38;5;241m-\u001b[39m\u001b[38;5;241m23\u001b[39m\n\u001b[1;32m----> 5\u001b[0m \u001b[38;5;28;01mreturn\u001b[39;00m \u001b[38;5;241m5\u001b[39m\u001b[38;5;241m*\u001b[39m(\u001b[43mmath\u001b[49m\u001b[38;5;241;43m.\u001b[39;49m\u001b[43me\u001b[49m\u001b[38;5;241;43m*\u001b[39;49m\u001b[38;5;241;43m*\u001b[39;49m\u001b[43m(\u001b[49m\u001b[43mq\u001b[49m\u001b[38;5;241;43m*\u001b[39;49m\u001b[43mV\u001b[49m\u001b[38;5;241;43m/\u001b[39;49m\u001b[43mk\u001b[49m\u001b[38;5;241;43m*\u001b[39;49m\u001b[43mT\u001b[49m\u001b[43m)\u001b[49m\u001b[38;5;241m-\u001b[39m\u001b[38;5;241m1\u001b[39m)\n",
      "\u001b[1;31mOverflowError\u001b[0m: (34, 'Result too large')"
     ]
    }
   ],
   "source": [
    "points = [0.1,1,2,3,4,5,6,7,8,9,10,11]\n",
    "N = 500\n",
    "#x = [i / 100 for i in range(0, N+1)]\n",
    "x=[0,0.3,0.4,0.5,0.8,1,1.2,1.3,1.5,1.5,1.7,2]\n",
    "# polynomial_approximation = []\n",
    "\n",
    "# for k in x:\n",
    "#     polynomial_approximation.append(NewtonInterpolation(f, k, points))\n",
    "polynomial_approximation=[NewtonInterpolation(f, k, points) for k in x]"
   ]
  },
  {
   "cell_type": "code",
   "execution_count": 12,
   "metadata": {},
   "outputs": [],
   "source": [
    "interpolation_values = [f(xi) for xi in points]\n",
    "real_function = [f(xi) for xi in x]"
   ]
  },
  {
   "cell_type": "code",
   "execution_count": 13,
   "metadata": {},
   "outputs": [
    {
     "data": {
      "text/plain": [
       "[<matplotlib.lines.Line2D at 0x25a59eef820>]"
      ]
     },
     "execution_count": 13,
     "metadata": {},
     "output_type": "execute_result"
    },
    {
     "data": {
      "image/png": "[encoded data removed]",
      "text/plain": [
       "<Figure size 432x288 with 1 Axes>"
      ]
     },
     "metadata": {
      "needs_background": "light"
     },
     "output_type": "display_data"
    }
   ],
   "source": [
    "plt.plot(x, real_function, 'r')\n",
    "plt.plot(x, polynomial_approximation, 'b')\n",
    "plt.plot(points, interpolation_values, 'o')"
   ]
  },
  {
   "cell_type": "code",
   "execution_count": null,
   "metadata": {},
   "outputs": [],
   "source": []
  },
  {
   "cell_type": "code",
   "execution_count": null,
   "metadata": {},
   "outputs": [],
   "source": []
  }
 ],
 "metadata": {
  "kernelspec": {
   "display_name": "Python 3 (ipykernel)",
   "language": "python",
   "name": "python3"
  },
  "language_info": {
   "codemirror_mode": {
    "name": "ipython",
    "version": 3
   },
   "file_extension": ".py",
   "mimetype": "text/x-python",
   "name": "python",
   "nbconvert_exporter": "python",
   "pygments_lexer": "ipython3",
   "version": "3.9.12"
  },
  "vscode": {
   "interpreter": {
    "hash": "5da16522ecf493c4a6d39476cc59157e509ec7ff09652dde5c80cbea8b3e6ffa"
   }
  }
 },
 "nbformat": 4,
 "nbformat_minor": 4
}
