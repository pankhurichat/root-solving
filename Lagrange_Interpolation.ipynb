{
 "cells": [
  {
   "cell_type": "markdown",
   "metadata": {},
   "source": [
    "# ## Lagrange Interpolation\n",
    "\n",
    "Given a function $f(x)$ sampled at $n+1$ points $x_0, x_1, ...., x_n$, Lagrange Interpolation formula generates a \n",
    "polynomial $Q_n(x)$ of degree less than or equal to $n$ using the formula\n",
    "\n",
    "$$Q_n(x) = \\sum_{j=0}^{n} f(x_j) \\ l^n_j(x) $$\n",
    "\n",
    "where $l^n_j(x)j$ are $n+1$ polynomials of degree $n$ given by\n",
    "\n",
    "$$ l^n_j(x) = \\frac{(x-x_0)(x-x_1)..(x-x_{j-1})(x-x_{j+1})..(x-x_n)}{(x_j-x_0)(x_j-x_1)..(x_j - x_{j-1})(x_j-x_{j+1})..(x_j-x_n)} \\ \\ \\ 0\\leq j \\leq n $$"
   ]
  },
  {
   "cell_type": "code",
   "execution_count": 4,
   "metadata": {},
   "outputs": [],
   "source": [
    "import numpy as np\n",
    "import matplotlib.pyplot as plt\n",
    "volt=np.array([1.9,2,2.4,2.6,2.8,3.2,3.5,3.8])\n",
    "current=np.array([2.5,3,4,5,6.5,9.5,14,26.5])"
   ]
  },
  {
   "cell_type": "markdown",
   "metadata": {},
   "source": [
    "Function to compute the interpolant polynomial"
   ]
  },
  {
   "cell_type": "code",
   "execution_count": 2,
   "metadata": {},
   "outputs": [],
   "source": [
    "def Lagrange_Interpolation(f,x, X):\n",
    "    n = len(X)\n",
    "    P = 0.\n",
    "    for i in range(0,n):\n",
    "        xi = X[i]\n",
    "        prod = 1.\n",
    "        for j in range(0,n):\n",
    "            xj = X[j]\n",
    "            if j != i:\n",
    "                prod *= (x-xj)/(xi-xj)\n",
    "        P += f(xi)*prod\n",
    "    return P "
   ]
  },
  {
   "cell_type": "markdown",
   "metadata": {},
   "source": [
    "**The Lorentz Function**\n",
    "\n",
    "$$ f(x) = \\frac{1}{1 + 25 \\ x^2}  \\ \\ \\ -1 \\leq x \\leq 1 $$"
   ]
  },
  {
   "cell_type": "code",
   "execution_count": 39,
   "metadata": {},
   "outputs": [],
   "source": [
    "def f(x):\n",
    "    return 1./(1.+ 25.*x**2)"
   ]
  },
  {
   "cell_type": "code",
   "execution_count": 5,
   "metadata": {},
   "outputs": [],
   "source": [
    "ii=[]\n",
    "def I(V,irc,isc):\n",
    "    ii.append(isc+irc*(e**(V*38.6697602475)-1))\n",
    "    return ii"
   ]
  },
  {
   "cell_type": "code",
   "execution_count": 40,
   "metadata": {},
   "outputs": [],
   "source": [
    "def g(x):\n",
    "    return np.exp(-x)"
   ]
  },
  {
   "cell_type": "code",
   "execution_count": 41,
   "metadata": {},
   "outputs": [],
   "source": [
    "n = 20 # Number of interpolation points\n",
    "X = np.linspace(-1.,1.,n) \n",
    "N = 100 # Number of points to be plotted\n",
    "x = np.linspace(-1.,1.,N)\n",
    "\n",
    "real_function = f(x)\n",
    "polynomial_fit = []\n",
    "\n",
    "for k in x:\n",
    "    polynomial_fit.append(Lagrange_Interpolation(f,k,X))\n",
    "\n",
    "polynomial_fit = np.array(polynomial_fit)\n",
    "\n",
    "error_function = real_function - polynomial_fit\n"
   ]
  },
  {
   "cell_type": "code",
   "execution_count": 42,
   "metadata": {},
   "outputs": [
    {
     "data": {
      "text/plain": [
       "Text(0.5, 0, '$x$')"
      ]
     },
     "execution_count": 42,
     "metadata": {},
     "output_type": "execute_result"
    },
    {
     "data": {
      "image/png": "[encoded data removed]",
      "text/plain": [
       "<Figure size 432x288 with 1 Axes>"
      ]
     },
     "metadata": {
      "needs_background": "light"
     },
     "output_type": "display_data"
    }
   ],
   "source": [
    "plt.plot(x, real_function, 'r', label=\"True Function\")\n",
    "plt.plot(x, polynomial_fit, 'black', label=\"Polynomial Fit\")\n",
    "plt.xlabel(r'$x$')\n"
   ]
  },
  {
   "cell_type": "code",
   "execution_count": null,
   "metadata": {},
   "outputs": [],
   "source": []
  }
 ],
 "metadata": {
  "kernelspec": {
   "display_name": "Python 3 (ipykernel)",
   "language": "python",
   "name": "python3"
  },
  "language_info": {
   "codemirror_mode": {
    "name": "ipython",
    "version": 3
   },
   "file_extension": ".py",
   "mimetype": "text/x-python",
   "name": "python",
   "nbconvert_exporter": "python",
   "pygments_lexer": "ipython3",
   "version": "3.9.12"
  },
  "vscode": {
   "interpreter": {
    "hash": "20ed38e4cda74de11e19a4ce4f4cc84385915d41437138105127adda474a0fd9"
   }
  }
 },
 "nbformat": 4,
 "nbformat_minor": 2
}
