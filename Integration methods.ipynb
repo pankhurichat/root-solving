{
 "cells": [
  {
   "cell_type": "markdown",
   "id": "c929aebf",
   "metadata": {},
   "source": [
    "# Trapezoidal Methods"
   ]
  },
  {
   "cell_type": "code",
   "execution_count": 1,
   "id": "e93f17fb",
   "metadata": {},
   "outputs": [],
   "source": [
    "import math as m\n",
    "def f(x):\n",
    "    return x**2"
   ]
  },
  {
   "cell_type": "code",
   "execution_count": 2,
   "id": "320bfb65",
   "metadata": {},
   "outputs": [],
   "source": [
    "def trapezoidal(f,a,b,h):\n",
    "    n=int((b-a)/h)\n",
    "    sum=0\n",
    "    for i in range(0,n):\n",
    "        sum=sum+(f(a)+f(a+h))*h/2\n",
    "        a=a+h\n",
    "    return sum"
   ]
  },
  {
   "cell_type": "code",
   "execution_count": 3,
   "id": "d6c10e5a",
   "metadata": {},
   "outputs": [
    {
     "name": "stdout",
     "output_type": "stream",
     "text": [
      "0.6666666699998863\n"
     ]
    }
   ],
   "source": [
    "I=trapezoidal(f,-1,1,0.0001)\n",
    "print(I)"
   ]
  },
  {
   "cell_type": "markdown",
   "id": "464aa575",
   "metadata": {},
   "source": [
    "# Gaussian Quadrature"
   ]
  },
  {
   "cell_type": "markdown",
   "id": "49463a3a",
   "metadata": {},
   "source": [
    "$$\\int_{-1}^{1}f(x)dx = \\sum_{i=1}^{n} w_i f(x_i)$$\n",
    "Where, $x_i$ are roots of legendre polynomial.\\\n",
    "if,$$\\int_{a}^{b}f(x)dx = \\int_{-1}^{1}g(z)dz$$\n",
    "Then,$$x=\\frac{(b-a)z+(b+a)}{2}$$\n",
    "So, $$dx = \\frac{b-a}{2}$$\n",
    "Then,$$\\int_{a}^{b}f(x)dx =  \\frac{b-a}{2} \\int_{-1}^{1}f\\left(\\frac{(b-a)z+(b+a)}{2}\\right) dz =  \\frac{b-a}{2} \\sum_{i=1}^{n} w_i f(x_i)$$"
   ]
  },
  {
   "cell_type": "code",
   "execution_count": 4,
   "id": "6c0f5aaf",
   "metadata": {},
   "outputs": [],
   "source": [
    "import math as m\n",
    "import numpy as np"
   ]
  },
  {
   "cell_type": "code",
   "execution_count": 5,
   "id": "b102ed8a",
   "metadata": {},
   "outputs": [],
   "source": [
    "from scipy.special.orthogonal import p_roots"
   ]
  },
  {
   "cell_type": "code",
   "execution_count": 6,
   "id": "25304723",
   "metadata": {},
   "outputs": [],
   "source": [
    "def gauss_quadrature1(f,n):   ## integrate between -1 and 1\n",
    "    A,B=p_roots(n)\n",
    "    sum=0\n",
    "    for i in range(0,len(A)):\n",
    "        sum=sum+f(A[i])*B[i]\n",
    "    return sum "
   ]
  },
  {
   "cell_type": "code",
   "execution_count": 7,
   "id": "2e4b5c5f",
   "metadata": {},
   "outputs": [
    {
     "name": "stdout",
     "output_type": "stream",
     "text": [
      "0.666666666666667\n"
     ]
    }
   ],
   "source": [
    "def f(x):\n",
    "    return x**2\n",
    "print(gauss_quadrature1(f,3))"
   ]
  },
  {
   "cell_type": "code",
   "execution_count": 8,
   "id": "6380a5e8",
   "metadata": {},
   "outputs": [],
   "source": [
    "def gauss_quadrature(f,n,a,b):     ## Integrate between limits a and b\n",
    "    A,B=p_roots(n)\n",
    "    sum=0\n",
    "    for i in range(0,len(A)):\n",
    "        x=((b-a)*A[i]+(b+a))/2    \n",
    "        sum=sum+f(x)*B[i]\n",
    "    return sum*(b-a)/2"
   ]
  },
  {
   "cell_type": "code",
   "execution_count": 9,
   "id": "44740d20",
   "metadata": {},
   "outputs": [
    {
     "name": "stdout",
     "output_type": "stream",
     "text": [
      "0.33333333333333326\n"
     ]
    }
   ],
   "source": [
    "def f(x):\n",
    "    return x**2\n",
    "print(gauss_quadrature(f,5,0,1))"
   ]
  },
  {
   "cell_type": "code",
   "execution_count": null,
   "id": "1c2ec3e7",
   "metadata": {},
   "outputs": [],
   "source": []
  }
 ],
 "metadata": {
  "kernelspec": {
   "display_name": "Python 3 (ipykernel)",
   "language": "python",
   "name": "python3"
  },
  "language_info": {
   "codemirror_mode": {
    "name": "ipython",
    "version": 3
   },
   "file_extension": ".py",
   "mimetype": "text/x-python",
   "name": "python",
   "nbconvert_exporter": "python",
   "pygments_lexer": "ipython3",
   "version": "3.9.7"
  }
 },
 "nbformat": 4,
 "nbformat_minor": 5
}
