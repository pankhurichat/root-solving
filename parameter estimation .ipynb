{
 "cells": [
  {
   "cell_type": "markdown",
   "id": "da6c3a2b",
   "metadata": {},
   "source": [
    "# for bias 0.7 towards tail \n",
    "## tail = 0, heads =1\n",
    "## flat prior"
   ]
  },
  {
   "cell_type": "code",
   "execution_count": 3,
   "id": "6e5f055f",
   "metadata": {},
   "outputs": [],
   "source": [
    "import numpy as np\n",
    "import matplotlib.pyplot as plt\n",
    "from numpy import exp, sqrt, pi\n",
    "import scipy.special as ssp"
   ]
  },
  {
   "cell_type": "code",
   "execution_count": 4,
   "id": "43db306b",
   "metadata": {},
   "outputs": [],
   "source": [
    "# function to generate data with certain bias seed\n",
    "def data(n,choices, weight):                                     \n",
    "    s = np.random.choice(choices ,size =n,  p = weight )\n",
    "    return s"
   ]
  },
  {
   "cell_type": "code",
   "execution_count": 6,
   "id": "da23a9cd",
   "metadata": {},
   "outputs": [
    {
     "name": "stdout",
     "output_type": "stream",
     "text": [
      " no. of heads  1\n",
      " no. of tails  4\n"
     ]
    },
    {
     "data": {
      "image/png": "[encoded data removed]",
      "text/plain": [
       "<Figure size 432x288 with 1 Axes>"
      ]
     },
     "metadata": {
      "needs_background": "light"
     },
     "output_type": "display_data"
    }
   ],
   "source": [
    "                \n",
    "n = 5    # no. of flips \n",
    "size = 1000               # data points to plot the posterior\n",
    "choices = [0,1]           \n",
    "weight = [0.7, 0.3]        # weightage of choices\n",
    "x = np.linspace(0,1,size)\n",
    "s = data(n, choices, weight)\n",
    "s = list(s)\n",
    "r = s.count(1)             #counting no. of heads\n",
    "print(\" no. of heads \", r)\n",
    "print(\" no. of tails \", n-r)\n",
    "plt.title(\" frequecy distribution of head(1) and tail(0)\")\n",
    "plt.hist(s, bins = 10, density = False, color = 'r')\n",
    "plt.show()"
   ]
  },
  {
   "cell_type": "code",
   "execution_count": 7,
   "id": "ef2c94db",
   "metadata": {},
   "outputs": [],
   "source": [
    "def likelihood(x,n,r, weight):\n",
    "    return ssp.comb(n,r)*(x**r) *((1-x)**(n-r))\n",
    "\n",
    "prior_flat = np.full(size,1)                    "
   ]
  },
  {
   "cell_type": "code",
   "execution_count": 8,
   "id": "47229481",
   "metadata": {},
   "outputs": [
    {
     "ename": "NameError",
     "evalue": "name 'prior' is not defined",
     "output_type": "error",
     "traceback": [
      "\u001b[1;31m---------------------------------------------------------------------------\u001b[0m",
      "\u001b[1;31mNameError\u001b[0m                                 Traceback (most recent call last)",
      "Input \u001b[1;32mIn [8]\u001b[0m, in \u001b[0;36m<cell line: 2>\u001b[1;34m()\u001b[0m\n\u001b[0;32m      1\u001b[0m l \u001b[38;5;241m=\u001b[39m likelihood(x,n, r, weight)\n\u001b[1;32m----> 2\u001b[0m posterior \u001b[38;5;241m=\u001b[39m \u001b[43mprior\u001b[49m\u001b[38;5;241m*\u001b[39ml\n\u001b[0;32m      3\u001b[0m plt\u001b[38;5;241m.\u001b[39mplot(x,l)\n\u001b[0;32m      4\u001b[0m plt\u001b[38;5;241m.\u001b[39mplot(x, posterior)\n",
      "\u001b[1;31mNameError\u001b[0m: name 'prior' is not defined"
     ]
    }
   ],
   "source": [
    "l = likelihood(x,n, r, weight)\n",
    "posterior = prior*l\n",
    "plt.plot(x,l)\n",
    "plt.plot(x, posterior)\n",
    "plt.title(\"bias weighting for H vs posterior\")\n",
    "plt.xlabel(\"bias weightage for H\")\n",
    "plt.ylabel(\" $prob(\\hspace{0.2}{hypothesis} \\hspace{0.2}|\\hspace{0.2} {data},I)$\")\n",
    "plt.grid()\n",
    "plt.show()\n"
   ]
  },
  {
   "cell_type": "code",
   "execution_count": 12,
   "id": "c656a774",
   "metadata": {},
   "outputs": [
    {
     "name": "stderr",
     "output_type": "stream",
     "text": [
      "C:\\Users\\Mani Gupta\\AppData\\Local\\Temp\\ipykernel_28224\\1744369719.py:20: RuntimeWarning: divide by zero encountered in power\n",
      "  return (x**(a-1))*((1-x)**(b-1))\n"
     ]
    },
    {
     "data": {
      "text/plain": [
       "[<matplotlib.lines.Line2D at 0x1ea498c0cd0>]"
      ]
     },
     "execution_count": 12,
     "metadata": {},
     "output_type": "execute_result"
    },
    {
     "data": {
      "image/png": "[encoded data removed]",
      "text/plain": [
       "<Figure size 432x288 with 1 Axes>"
      ]
     },
     "metadata": {
      "needs_background": "light"
     },
     "output_type": "display_data"
    }
   ],
   "source": [
    "#Different prior\n",
    "\n",
    "mu = 0.8\n",
    "sigma = 0.2\n",
    " \n",
    "\n",
    "def prior_gaussian(x,sigma,mu):\n",
    "    p = (1/sqrt(2*pi*sigma**2))*exp(-(x-mu)**2/(2*sigma**2))\n",
    "    return p\n",
    "plt.plot(x, prior_gaussian(x,sigma, mu))\n",
    "\n",
    "def prior_fair(x,sigma):\n",
    "    p = (1/sqrt(2*pi*sigma**2)) * exp(-(x-0.5)**2/(2*sigma**2))\n",
    "    \n",
    "    return p\n",
    "plt.plot(x, prior_gaussian(x,sigma, mu))\n",
    "plt.grid()\n",
    "\n",
    "def prior_beta(x,a, b):\n",
    "    return (x**(a-1))*((1-x)**(b-1))\n",
    "prior_3 =  prior_beta(x,0.5,0.5)\n",
    "plt.plot(x, prior_3)"
   ]
  },
  {
   "cell_type": "code",
   "execution_count": 13,
   "id": "200ff156",
   "metadata": {},
   "outputs": [
    {
     "ename": "NameError",
     "evalue": "name 'posterior' is not defined",
     "output_type": "error",
     "traceback": [
      "\u001b[1;31m---------------------------------------------------------------------------\u001b[0m",
      "\u001b[1;31mNameError\u001b[0m                                 Traceback (most recent call last)",
      "Input \u001b[1;32mIn [13]\u001b[0m, in \u001b[0;36m<cell line: 4>\u001b[1;34m()\u001b[0m\n\u001b[0;32m      2\u001b[0m \u001b[38;5;66;03m#posterior_1 = posterior_1/max(posterior_1)\u001b[39;00m\n\u001b[0;32m      3\u001b[0m plt\u001b[38;5;241m.\u001b[39mplot(x, posterior_1, linestyle \u001b[38;5;241m=\u001b[39m \u001b[38;5;124m'\u001b[39m\u001b[38;5;124m--\u001b[39m\u001b[38;5;124m'\u001b[39m, color \u001b[38;5;241m=\u001b[39m \u001b[38;5;124m'\u001b[39m\u001b[38;5;124mr\u001b[39m\u001b[38;5;124m'\u001b[39m, label  \u001b[38;5;241m=\u001b[39m \u001b[38;5;124m'\u001b[39m\u001b[38;5;124mprior = 0.8 bias\u001b[39m\u001b[38;5;124m'\u001b[39m)\n\u001b[1;32m----> 4\u001b[0m plt\u001b[38;5;241m.\u001b[39mplot(x, \u001b[43mposterior\u001b[49m, label \u001b[38;5;241m=\u001b[39m \u001b[38;5;124m'\u001b[39m\u001b[38;5;124mprior = absolute ignorance\u001b[39m\u001b[38;5;124m'\u001b[39m)\n\u001b[0;32m      5\u001b[0m plt\u001b[38;5;241m.\u001b[39mgrid()\n\u001b[0;32m      6\u001b[0m plt\u001b[38;5;241m.\u001b[39mlegend()\n",
      "\u001b[1;31mNameError\u001b[0m: name 'posterior' is not defined"
     ]
    },
    {
     "data": {
      "image/png": "[encoded data removed]",
      "text/plain": [
       "<Figure size 432x288 with 1 Axes>"
      ]
     },
     "metadata": {
      "needs_background": "light"
     },
     "output_type": "display_data"
    }
   ],
   "source": [
    "posterior_1 = (prior_fair(x,sigma)*l)\n",
    "#posterior_1 = posterior_1/max(posterior_1)\n",
    "plt.plot(x, posterior_1, linestyle = '--', color = 'r', label  = 'prior = 0.8 bias')\n",
    "plt.plot(x, posterior, label = 'prior = absolute ignorance')\n",
    "plt.grid()\n",
    "plt.legend()"
   ]
  },
  {
   "cell_type": "code",
   "execution_count": 13,
   "id": "48ed82fc",
   "metadata": {},
   "outputs": [
    {
     "ename": "NameError",
     "evalue": "name 'l' is not defined",
     "output_type": "error",
     "traceback": [
      "\u001b[1;31m---------------------------------------------------------------------------\u001b[0m",
      "\u001b[1;31mNameError\u001b[0m                                 Traceback (most recent call last)",
      "Input \u001b[1;32mIn [13]\u001b[0m, in \u001b[0;36m<cell line: 1>\u001b[1;34m()\u001b[0m\n\u001b[1;32m----> 1\u001b[0m posterior_3 \u001b[38;5;241m=\u001b[39m (prior_3\u001b[38;5;241m*\u001b[39m\u001b[43ml\u001b[49m)\n\u001b[0;32m      2\u001b[0m plt\u001b[38;5;241m.\u001b[39mplot(x,posterior_3)\n\u001b[0;32m      3\u001b[0m plt\u001b[38;5;241m.\u001b[39mgrid()\n",
      "\u001b[1;31mNameError\u001b[0m: name 'l' is not defined"
     ]
    }
   ],
   "source": [
    "posterior_3 = (prior_3*l)\n",
    "plt.plot(x,posterior_3)\n",
    "plt.grid()"
   ]
  },
  {
   "cell_type": "code",
   "execution_count": 187,
   "id": "c4e8d009",
   "metadata": {
    "scrolled": true
   },
   "outputs": [
    {
     "data": {
      "image/png": "[encoded data removed]",
      "text/plain": [
       "<Figure size 432x288 with 1 Axes>"
      ]
     },
     "metadata": {
      "needs_background": "light"
     },
     "output_type": "display_data"
    }
   ],
   "source": [
    "\n",
    "plt.plot(x, posterior_1, linestyle = '--', color = 'r', label  = 'prior = 0.8 bias')\n",
    "plt.plot(x, posterior, label = 'prior = absolute ignorance')\n",
    "plt.plot(x,posterior_3, label = 'heavily biased', linestyle = ':', color = 'black')\n",
    "plt.legend()\n",
    "plt.show()"
   ]
  },
  {
   "cell_type": "code",
   "execution_count": 200,
   "id": "b58aa2d6",
   "metadata": {},
   "outputs": [
    {
     "ename": "SyntaxError",
     "evalue": "invalid syntax (1119435095.py, line 18)",
     "output_type": "error",
     "traceback": [
      "\u001b[1;36m  Input \u001b[1;32mIn [200]\u001b[1;36m\u001b[0m\n\u001b[1;33m    prior = np.full(size,1)\u001b[0m\n\u001b[1;37m    ^\u001b[0m\n\u001b[1;31mSyntaxError\u001b[0m\u001b[1;31m:\u001b[0m invalid syntax\n"
     ]
    }
   ],
   "source": [
    "# function to generate data with certain bias seed\n",
    "def data(n,choices, weight):                                     \n",
    "    s = np.random.choice(choices ,size =n,  p = weight )\n",
    "    return s\n",
    "                \n",
    "n = 0      # no. of flips \n",
    "size = 1000               # data points to plot the posterior\n",
    "choices = [0,1]           \n",
    "weight = [0.7, 0.3]        # weightage of choices\n",
    "x = np.linspace(0,1,size)\n",
    "s = data(n, choices, weight)\n",
    "s = list(s)\n",
    "r = s.count(1)             #counting no. of heads\n",
    "\n",
    "def likelihood(x,n,r, weight):\n",
    "    return ssp.comb(n,r) * (x**r) *((1-x)**(n-r)\n",
    "                                  \n",
    "prior = np.full(size,1)                \n",
    "l = likelihood(x,n, r, weight)\n",
    "posterior = prior*l\n",
    "                           #Different prior\n",
    "\n",
    "mu = 0.8\n",
    "sigma = 0.2\n",
    " \n",
    "\n",
    "def prior_gaussian(x,sigma,mu):\n",
    "    p = (1/sqrt(2*pi*sigma**2))*exp(-(x-mu)**2/(2*sigma**2))\n",
    "    return p\n",
    "plt.plot(x, prior_gaussian(x,sigma, mu))\n",
    "\n",
    "def prior_fair(x,sigma):\n",
    "    p = (1/sqrt(2*pi*sigma**2)) * exp(-(x-0.5)**2/(2*sigma**2))\n",
    "    \n",
    "    return p\n",
    "plt.plot(x, prior_gaussian(x,sigma, mu))\n",
    "plt.grid()\n",
    "\n",
    "def prior_beta(x,a, b):\n",
    "    return (x**(a-1))*((1-x)**(b-1))\n",
    "prior_3 =  prior_beta(x,0.5,0.5)\n",
    "plt.plot(x, prior_3)\n",
    "                                  \n",
    "posterior_1 = (prior_fair(x,sigma)*l)\n",
    "posterior_3 = (prior_3*l)\n",
    "\n",
    "plt.plot(x, posterior_1, linestyle = '--', color = 'r', label  = 'prior = 0.8 bias')\n",
    "plt.plot(x, posterior, label = 'prior = absolute ignorance')\n",
    "plt.plot(x,posterior_3, label = 'heavily biased', linestyle = ':', color = 'black')\n",
    "plt.legend()\n",
    "plt.show()                        "
   ]
  },
  {
   "cell_type": "code",
   "execution_count": null,
   "id": "55148ce5",
   "metadata": {},
   "outputs": [],
   "source": []
  }
 ],
 "metadata": {
  "kernelspec": {
   "display_name": "Python 3 (ipykernel)",
   "language": "python",
   "name": "python3"
  },
  "language_info": {
   "codemirror_mode": {
    "name": "ipython",
    "version": 3
   },
   "file_extension": ".py",
   "mimetype": "text/x-python",
   "name": "python",
   "nbconvert_exporter": "python",
   "pygments_lexer": "ipython3",
   "version": "3.9.12"
  }
 },
 "nbformat": 4,
 "nbformat_minor": 5
}
